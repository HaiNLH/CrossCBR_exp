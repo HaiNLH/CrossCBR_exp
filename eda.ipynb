{
 "cells": [
  {
   "cell_type": "code",
   "execution_count": 7,
   "metadata": {},
   "outputs": [
    {
     "name": "stdout",
     "output_type": "stream",
     "text": [
      "C:\\WORK\\DS-KT\\CrossCBR_exp\\datasets\\clothing\n"
     ]
    }
   ],
   "source": [
    "cd WORK/DS-KT/CrossCBR_exp/datasets/clothing"
   ]
  },
  {
   "cell_type": "code",
   "execution_count": 8,
   "metadata": {},
   "outputs": [],
   "source": [
    "import pandas as pd\n",
    "\n",
    "df = pd.read_csv('bundle_item.csv')\n",
    "df2 = pd.read_csv('user_item.csv')"
   ]
  },
  {
   "cell_type": "code",
   "execution_count": 9,
   "metadata": {},
   "outputs": [
    {
     "data": {
      "text/plain": [
       "(4487,)"
      ]
     },
     "execution_count": 9,
     "metadata": {},
     "output_type": "execute_result"
    }
   ],
   "source": [
    "df2['item ID'].unique().shape"
   ]
  },
  {
   "cell_type": "code",
   "execution_count": 13,
   "metadata": {},
   "outputs": [
    {
     "name": "stdout",
     "output_type": "stream",
     "text": [
      "Unique item IDs are the same between bundle-item and user-item data.\n"
     ]
    }
   ],
   "source": [
    "bundle_item_unique_items = set(df['item ID'])\n",
    "\n",
    "# Extract the unique item IDs from \"user-item\" data\n",
    "user_item_unique_items = set(df2['item ID'])\n",
    "\n",
    "# Compare if the unique item IDs are the same\n",
    "if bundle_item_unique_items == user_item_unique_items:\n",
    "    print(\"Unique item IDs are the same between bundle-item and user-item data.\")\n",
    "else:\n",
    "    print(\"Unique item IDs are different between bundle-item and user-item data.\")"
   ]
  },
  {
   "cell_type": "code",
   "execution_count": null,
   "metadata": {},
   "outputs": [],
   "source": []
  }
 ],
 "metadata": {
  "kernelspec": {
   "display_name": "Python 3",
   "language": "python",
   "name": "python3"
  },
  "language_info": {
   "codemirror_mode": {
    "name": "ipython",
    "version": 3
   },
   "file_extension": ".py",
   "mimetype": "text/x-python",
   "name": "python",
   "nbconvert_exporter": "python",
   "pygments_lexer": "ipython3",
   "version": "3.11.3"
  }
 },
 "nbformat": 4,
 "nbformat_minor": 2
}
